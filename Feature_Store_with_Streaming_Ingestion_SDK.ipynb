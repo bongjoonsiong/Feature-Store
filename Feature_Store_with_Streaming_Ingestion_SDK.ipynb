{
  "nbformat": 4,
  "nbformat_minor": 0,
  "metadata": {
    "colab": {
      "provenance": [],
      "authorship_tag": "ABX9TyOhh1kfwFQwuiMrCi2gbDsC",
      "include_colab_link": true
    },
    "kernelspec": {
      "name": "python3",
      "display_name": "Python 3"
    },
    "language_info": {
      "name": "python"
    }
  },
  "cells": [
    {
      "cell_type": "markdown",
      "metadata": {
        "id": "view-in-github",
        "colab_type": "text"
      },
      "source": [
        "<a href=\"https://colab.research.google.com/github/bongjoonsiong/Feature-Store/blob/main/Feature_Store_with_Streaming_Ingestion_SDK.ipynb\" target=\"_parent\"><img src=\"https://colab.research.google.com/assets/colab-badge.svg\" alt=\"Open In Colab\"/></a>"
      ]
    },
    {
      "cell_type": "markdown",
      "source": [
        "# Feature Store: Streaming ingestion SDK"
      ],
      "metadata": {
        "id": "9tgJCpG1oqV0"
      }
    },
    {
      "cell_type": "markdown",
      "source": [
        "## Overview\n",
        "\n",
        "This notebook demonstrates how to use Vertex AI Feature Store's streaming ingestion at the SDK layer.\n",
        "\n",
        "Learn more about [Vertex AI Feature Store](https://cloud.google.com/vertex-ai/docs/featurestore)."
      ],
      "metadata": {
        "id": "OeYxyPQlovje"
      }
    },
    {
      "cell_type": "markdown",
      "source": [
        "### Objective\n",
        "\n",
        "In this tutorial, you learn how to ingest features from a `Pandas DataFrame` into your Vertex AI Feature Store using `write_feature_values` method from the Vertex AI SDK.\n",
        "\n",
        "This tutorial uses the following Google Cloud ML services and resources:\n",
        "\n",
        "- Vertex AI Feature Store\n",
        "\n",
        "\n",
        "The steps performed include:\n",
        "\n",
        "- Create `Feature Store`\n",
        "- Create new `Entity Type` for your `Feature Store`\n",
        "- Ingest feature values from `Pandas DataFrame` into `Feature Store`'s `Entity Types`."
      ],
      "metadata": {
        "id": "tdUcf6ReozeG"
      }
    },
    {
      "cell_type": "markdown",
      "source": [
        "### Dataset\n",
        "\n",
        "The dataset used for this notebook is the penguins dataset from [BigQuery public datasets](https://cloud.google.com/bigquery/public-data). This dataset has the following features: `culmen_length_mm`, `culmen_depth_mm`, `flipper_length_mm`, `body_mass_g`, `species`, and `sex`."
      ],
      "metadata": {
        "id": "sEYWLq1Do4vY"
      }
    },
    {
      "cell_type": "markdown",
      "source": [
        "## Installation\n",
        "\n",
        "Install the following packages required to execute this notebook."
      ],
      "metadata": {
        "id": "dWfVNzuLo9B2"
      }
    },
    {
      "cell_type": "code",
      "execution_count": null,
      "metadata": {
        "id": "gIrzbxGMomtH"
      },
      "outputs": [],
      "source": [
        "# Install the packages\n",
        "! pip3 install --upgrade google-cloud-aiplatform\\\n",
        "                         google-cloud-bigquery\\\n",
        "                         numpy\\\n",
        "                         pandas\\\n",
        "                         db-dtypes\\\n",
        "                         pyarrow -q\\\n",
        "                         --use"
      ]
    },
    {
      "cell_type": "markdown",
      "source": [
        "### Restart the kernel"
      ],
      "metadata": {
        "id": "DSzeQtdbpEDb"
      }
    },
    {
      "cell_type": "code",
      "source": [
        "# Automatically restart kernel after installs so that your environment can access the new packages\n",
        "import IPython\n",
        "\n",
        "app = IPython.Application.instance()\n",
        "app.kernel.do_shutdown(True)"
      ],
      "metadata": {
        "id": "QdSgFaxrpFbJ"
      },
      "execution_count": null,
      "outputs": []
    },
    {
      "cell_type": "markdown",
      "source": [
        "## Before you begin\n",
        "\n",
        "### Set up your Google Cloud project\n",
        "\n",
        "**The following steps are required, regardless of your notebook environment.**\n",
        "\n",
        "1. [Select or create a Google Cloud project](https://console.cloud.google.com/cloud-resource-manager). When you first create an account, you get a $300 free credit towards your compute/storage costs.\n",
        "\n",
        "2. [Make sure that billing is enabled for your project](https://cloud.google.com/billing/docs/how-to/modify-project).\n",
        "\n",
        "3. [Enable the Vertex AI API](https://console.cloud.google.com/flows/enableapi?apiid=aiplatform.googleapis.com).\n",
        "\n",
        "4. If you are running this notebook locally, you need to install the [Cloud SDK](https://cloud.google.com/sdk)."
      ],
      "metadata": {
        "id": "g7HZBXi9pJkp"
      }
    },
    {
      "cell_type": "markdown",
      "source": [
        "#### Set your project ID\n",
        "\n",
        "**If you don't know your project ID**, try the following:\n",
        "* Run `gcloud config list`.\n",
        "* Run `gcloud projects list`.\n",
        "* See the support page: [Locate the project ID](https://support.google.com/googleapi/answer/7014113)"
      ],
      "metadata": {
        "id": "ayrLbNcspSQy"
      }
    },
    {
      "cell_type": "code",
      "source": [
        "!gcloud config list"
      ],
      "metadata": {
        "id": "Y0lK9pBapXwk"
      },
      "execution_count": null,
      "outputs": []
    },
    {
      "cell_type": "code",
      "source": [
        "!gcloud projects list"
      ],
      "metadata": {
        "id": "bKh0JAb3pZF9"
      },
      "execution_count": null,
      "outputs": []
    },
    {
      "cell_type": "code",
      "source": [
        "!gcloud config list project"
      ],
      "metadata": {
        "id": "3jhLeIpipbOg"
      },
      "execution_count": null,
      "outputs": []
    },
    {
      "cell_type": "code",
      "source": [
        "PROJECT_ID = \"qwiklabs-gcp-04-0e0428531c9e\"  # Replace with your project-id\n",
        "\n",
        "# Set the project id\n",
        "! gcloud config set project {PROJECT_ID}"
      ],
      "metadata": {
        "id": "5zNTNXBQpfd_"
      },
      "execution_count": null,
      "outputs": []
    },
    {
      "cell_type": "markdown",
      "source": [
        "#### Region\n",
        "\n",
        "You can also change the `REGION` variable used by Vertex AI. Learn more about [Vertex AI regions](https://cloud.google.com/vertex-ai/docs/general/locations)."
      ],
      "metadata": {
        "id": "9Zjx4Zrepkt2"
      }
    },
    {
      "cell_type": "code",
      "source": [
        "REGION = \"us-central1\"  # Replace with your region"
      ],
      "metadata": {
        "id": "pX6oyv0PpnRR"
      },
      "execution_count": null,
      "outputs": []
    },
    {
      "cell_type": "markdown",
      "source": [
        "### UUID\n",
        "\n",
        "If you are in a live tutorial session, you might be using a shared test account or project. To avoid name collisions between users on resources created, you create a uuid for each instance session, and append it onto the name of resources you create in this tutorial."
      ],
      "metadata": {
        "id": "2YvQtvNRpql5"
      }
    },
    {
      "cell_type": "code",
      "source": [
        "import random\n",
        "import string\n",
        "\n",
        "\n",
        "# Generate a uuid of a specifed length(default=8)\n",
        "def generate_uuid(length: int = 8) -> str:\n",
        "    return \"\".join(random.choices(string.ascii_lowercase + string.digits, k=length))\n",
        "\n",
        "\n",
        "UUID = generate_uuid()"
      ],
      "metadata": {
        "id": "y8fKubd1pryN"
      },
      "execution_count": null,
      "outputs": []
    },
    {
      "cell_type": "markdown",
      "source": [
        "### Import libraries"
      ],
      "metadata": {
        "id": "9icjoAZvpuLI"
      }
    },
    {
      "cell_type": "code",
      "source": [
        "import numpy as np\n",
        "import pandas as pd\n",
        "from google.cloud import aiplatform, bigquery"
      ],
      "metadata": {
        "id": "Jnw40scypwwL"
      },
      "execution_count": null,
      "outputs": []
    },
    {
      "cell_type": "markdown",
      "source": [
        "### Initialize Vertex AI SDK for Python\n",
        "\n",
        "Initialize the Vertex AI SDK for Python for your project."
      ],
      "metadata": {
        "id": "fJ9TNz_qp2Nc"
      }
    },
    {
      "cell_type": "code",
      "source": [
        "aiplatform.init(project=PROJECT_ID, location=REGION)"
      ],
      "metadata": {
        "id": "TM_7FYiJp7n6"
      },
      "execution_count": null,
      "outputs": []
    },
    {
      "cell_type": "markdown",
      "source": [
        "## Download and prepare the data\n"
      ],
      "metadata": {
        "id": "5999635CpNZQ"
      }
    },
    {
      "cell_type": "code",
      "source": [
        "def download_bq_table(bq_table_uri: str) -> pd.DataFrame:\n",
        "    # Remove bq:// prefix if present\n",
        "    prefix = \"bq://\"\n",
        "    if bq_table_uri.startswith(prefix):\n",
        "        bq_table_uri = bq_table_uri[len(prefix) :]\n",
        "\n",
        "    table = bigquery.TableReference.from_string(bq_table_uri)\n",
        "\n",
        "    # Create a BigQuery client\n",
        "    bqclient = bigquery.Client(project=PROJECT_ID)\n",
        "\n",
        "    # Download the table rows\n",
        "    rows = bqclient.list_rows(\n",
        "        table,\n",
        "    )\n",
        "    return rows.to_dataframe()"
      ],
      "metadata": {
        "id": "99YUvD-Jp_3u"
      },
      "execution_count": null,
      "outputs": []
    },
    {
      "cell_type": "code",
      "source": [
        "BQ_SOURCE = \"bq://bigquery-public-data.ml_datasets.penguins\"\n",
        "\n",
        "# Download penguins BigQuery table\n",
        "penguins_df = download_bq_table(BQ_SOURCE)"
      ],
      "metadata": {
        "id": "98n4MhrHqCrk"
      },
      "execution_count": null,
      "outputs": []
    },
    {
      "cell_type": "markdown",
      "source": [
        "### Prepare the data\n",
        "\n",
        "Feature values to be written to the Feature Store can take the form of a list of `WriteFeatureValuesPayload` objects, a Python `dict` of the form\n",
        "\n",
        "`{entity_id : {feature_id : feature_value}, ...},`\n",
        "\n",
        "or a pandas `Dataframe`, where the `index` column holds the unique entity ID strings and each remaining column represents a feature.  In this notebook, since you use a pandas `DataFrame` for ingesting features we convert the index column data type to `string` to be used as `Entity ID`."
      ],
      "metadata": {
        "id": "ZB2NBg7-qR0N"
      }
    },
    {
      "cell_type": "code",
      "source": [
        "# Prepare the data\n",
        "penguins_df.index = penguins_df.index.map(str)"
      ],
      "metadata": {
        "id": "uY-Ty_yZqabX"
      },
      "execution_count": null,
      "outputs": []
    },
    {
      "cell_type": "code",
      "source": [
        "# Remove null values\n",
        "NA_VALUES = [\"NA\", \".\"]\n",
        "penguins_df = penguins_df.replace(to_replace=NA_VALUES, value=np.NaN).dropna()"
      ],
      "metadata": {
        "id": "oJJ32rtSqL4_"
      },
      "execution_count": null,
      "outputs": []
    },
    {
      "cell_type": "markdown",
      "source": [
        "## Create Feature Store and define schemas\n",
        "\n",
        "Vertex AI Feature Store organizes resources hierarchically in the following order:\n",
        "\n",
        "`Featurestore -> EntityType -> Feature`\n",
        "\n",
        "You must create these resources before you can ingest data into Vertex AI Feature Store.\n",
        "\n",
        "Learn more about [Vertex AI Feature Store](https://cloud.google.com/vertex-ai/docs/featurestore)\n",
        "\n"
      ],
      "metadata": {
        "id": "drKM3ufMqHSB"
      }
    },
    {
      "cell_type": "markdown",
      "source": [
        "Create a Feature Store\n",
        "You create a Feature Store using aiplatform.Featurestore.create with the following parameters:\n",
        "\n",
        "featurestore_id (str): The ID to use for this Featurestore, which will become the final component of the Featurestore's resource name. The value must be unique within the project and location.\n",
        "online_store_fixed_node_count: Configuration for online serving resources.\n",
        "project: Project to create EntityType in. If not set, project set in aiplatform.init is used.\n",
        "location: Location to create EntityType in. If not set, location set in aiplatform.init is used.\n",
        "sync: Whether to execute this creation synchronously."
      ],
      "metadata": {
        "id": "W0xNan32qlNr"
      }
    },
    {
      "cell_type": "code",
      "source": [
        "FEATURESTORE_ID = f\"penguins_{UUID}\"\n",
        "\n",
        "penguins_feature_store = aiplatform.Featurestore.create(\n",
        "    featurestore_id=FEATURESTORE_ID,\n",
        "    online_store_fixed_node_count=1,\n",
        "    project=PROJECT_ID,\n",
        "    location=REGION,\n",
        "    sync=True,\n",
        ")"
      ],
      "metadata": {
        "id": "QbMAe2PLqo98"
      },
      "execution_count": null,
      "outputs": []
    },
    {
      "cell_type": "markdown",
      "source": [
        "##### Verify that the Feature Store is created\n",
        "Check if the Feature Store was successfully created by running the following code block."
      ],
      "metadata": {
        "id": "mz4mDEIEqxCk"
      }
    },
    {
      "cell_type": "code",
      "source": [
        "fs = aiplatform.Featurestore(\n",
        "    featurestore_name=FEATURESTORE_ID,\n",
        "    project=PROJECT_ID,\n",
        "    location=REGION,\n",
        ")\n",
        "print(fs.gca_resource)"
      ],
      "metadata": {
        "id": "iP6dq-fVqyQm"
      },
      "execution_count": null,
      "outputs": []
    },
    {
      "cell_type": "markdown",
      "source": [
        "### Create an EntityType\n",
        "\n",
        "An entity type is a collection of semantically related features. You define your own entity types, based on the concepts that are relevant to your use case. For example, a movie service might have the entity types `movie` and `user`, which group related features that correspond to movies or users.\n",
        "\n",
        "Here, you create an entity type entity type named `penguin_entity_type` using `create_entity_type` with the following parameters:\n",
        "* `entity_type_id (str)`: The ID to use for the EntityType, which will become the final component of the EntityType's resource name. The value must be unique within a Feature Store.\n",
        "* `description`: Description of the EntityType."
      ],
      "metadata": {
        "id": "tuv4N5esq2iI"
      }
    },
    {
      "cell_type": "code",
      "source": [
        "ENTITY_TYPE_ID = f\"penguin_entity_type_{UUID}\"\n",
        "\n",
        "# Create penguin entity type\n",
        "penguins_entity_type = penguins_feature_store.create_entity_type(\n",
        "    entity_type_id=ENTITY_TYPE_ID,\n",
        "    description=\"Penguins entity type\",\n",
        ")"
      ],
      "metadata": {
        "id": "A71Bpl5Lq451"
      },
      "execution_count": null,
      "outputs": []
    },
    {
      "cell_type": "markdown",
      "source": [
        "##### Verify that the EntityType is created\n",
        "Check if the Entity Type was successfully created by running the following code block."
      ],
      "metadata": {
        "id": "2JkSnqtxq70v"
      }
    },
    {
      "cell_type": "code",
      "source": [
        "entity_type = penguins_feature_store.get_entity_type(entity_type_id=ENTITY_TYPE_ID)\n",
        "\n",
        "print(entity_type.gca_resource)"
      ],
      "metadata": {
        "id": "cabxH8eUq9GU"
      },
      "execution_count": null,
      "outputs": []
    },
    {
      "cell_type": "markdown",
      "source": [
        "### Create Features\n",
        "A feature is a measurable property or attribute of an entity type. For example, `penguin` entity type has features such as `flipper_length_mm`, and `body_mass_g`. Features can be created within each entity type.\n",
        "\n",
        "When you create a feature, you specify its value type such as `DOUBLE`, and `STRING`. This value determines what value types you can ingest for a particular feature.\n",
        "\n",
        "Learn more about [Feature Value Types](https://cloud.google.com/vertex-ai/docs/reference/rest/v1/projects.locations.featurestores.entityTypes.features)"
      ],
      "metadata": {
        "id": "wpc5yzF4rEqh"
      }
    },
    {
      "cell_type": "code",
      "source": [
        "penguins_feature_configs = {\n",
        "    \"species\": {\n",
        "        \"value_type\": \"STRING\",\n",
        "    },\n",
        "    \"island\": {\n",
        "        \"value_type\": \"STRING\",\n",
        "    },\n",
        "    \"culmen_length_mm\": {\n",
        "        \"value_type\": \"DOUBLE\",\n",
        "    },\n",
        "    \"culmen_depth_mm\": {\n",
        "        \"value_type\": \"DOUBLE\",\n",
        "    },\n",
        "    \"flipper_length_mm\": {\n",
        "        \"value_type\": \"DOUBLE\",\n",
        "    },\n",
        "    \"body_mass_g\": {\"value_type\": \"DOUBLE\"},\n",
        "    \"sex\": {\"value_type\": \"STRING\"},\n",
        "}"
      ],
      "metadata": {
        "id": "Gi2sjYWLrH27"
      },
      "execution_count": null,
      "outputs": []
    },
    {
      "cell_type": "code",
      "source": [
        "penguin_features = penguins_entity_type.batch_create_features(\n",
        "    feature_configs=penguins_feature_configs,\n",
        ")"
      ],
      "metadata": {
        "id": "BwvjvYMzrLRK"
      },
      "execution_count": null,
      "outputs": []
    },
    {
      "cell_type": "markdown",
      "source": [
        "### Write features to the Feature Store\n",
        "Use the `write_feature_values` API to write a feature to the Feature Store with the following parameter:\n",
        "\n",
        "* `instances`: Feature values to be written to the Feature Store that can take the form of a list of WriteFeatureValuesPayload objects, a Python dict, or a pandas Dataframe.\n",
        "\n",
        "This streaming ingestion feature has been introduced to the Vertex AI SDK under the **preview** namespace. Here, you pass the pandas `Dataframe` you created from penguins dataset as `instances` parameter.\n",
        "\n",
        "Learn more about [Streaming ingestion API](https://github.com/googleapis/python-aiplatform/blob/e6933503d2d3a0f8a8f7ef8c178ed50a69ac2268/google/cloud/aiplatform/preview/featurestore/entity_type.py#L36)"
      ],
      "metadata": {
        "id": "Gf7oazXgrOOh"
      }
    },
    {
      "cell_type": "code",
      "source": [
        "penguins_entity_type.preview.write_feature_values(instances=penguins_df)"
      ],
      "metadata": {
        "id": "X9q3uLjVrQRR"
      },
      "execution_count": null,
      "outputs": []
    },
    {
      "cell_type": "markdown",
      "source": [
        "## Read back written features\n",
        "\n",
        "Wait a few seconds for the write to propagate, then do an online read to confirm the write was successful."
      ],
      "metadata": {
        "id": "_VLXJyo0rVCH"
      }
    },
    {
      "cell_type": "code",
      "source": [
        "ENTITY_IDS = [str(x) for x in range(100)]\n",
        "penguins_entity_type.read(entity_ids=ENTITY_IDS)"
      ],
      "metadata": {
        "id": "-zWDQ98uradC"
      },
      "execution_count": null,
      "outputs": []
    }
  ]
}